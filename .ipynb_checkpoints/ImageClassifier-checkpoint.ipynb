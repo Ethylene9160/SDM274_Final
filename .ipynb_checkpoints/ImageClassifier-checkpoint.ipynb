{
 "cells": [
  {
   "cell_type": "code",
   "execution_count": 1,
   "metadata": {
    "ExecuteTime": {
     "end_time": "2023-12-20T15:03:46.096249300Z",
     "start_time": "2023-12-20T15:03:43.634383100Z"
    }
   },
   "outputs": [],
   "source": [
    "import cppyy\n",
    "import ctypes\n",
    "import numpy as np\n",
    "import matplotlib.pyplot as plt\n",
    "import cv2 as cv\n",
    "%matplotlib inline\n",
    "cppyy.include(r\"D:\\Sustech\\2023Autumn\\ArtificialIntelligent_and_MechineLearning\\SDM274_ML_AI\\LinearAutoEncoder\\src\\LinearAutoEncoder.h\")\n",
    "\n",
    "def get2DCppArray(X):\n",
    "    if isinstance(X, np.ndarray):\n",
    "        data_list = X.tolist()\n",
    "    else:\n",
    "        data_list = X \n",
    "    vector_vector_double = cppyy.gbl.std.vector[cppyy.gbl.std.vector['double']]\n",
    "    vector_double = cppyy.gbl.std.vector['double']\n",
    "    inputs = vector_vector_double()\n",
    "    for sample in data_list:\n",
    "        sample_vector = vector_double()\n",
    "        for feature in sample:\n",
    "            sample_vector.push_back(feature)\n",
    "        inputs.push_back(sample_vector)\n",
    "    return inputs\n",
    "\n",
    "def get1DCppArray(X):\n",
    "    if isinstance(X, np.ndarray):\n",
    "        data_list = X.tolist()\n",
    "    else:\n",
    "        data_list = X \n",
    "    vector_double = cppyy.gbl.std.vector['double']\n",
    "    labels_vector = vector_double()\n",
    "    for label in data_list:\n",
    "        labels_vector.push_back(label)\n",
    "    return labels_vector\n",
    "\n",
    "def get1DPyarray(ctypes_array):\n",
    "    # 获取Ctypes数组的长度\n",
    "    length = len(ctypes_array)\n",
    "\n",
    "    # 将Ctypes数组转换为NumPy数组\n",
    "    numpy_array = np.fromiter(ctypes_array, dtype=np.float64, count=length)\n",
    "\n",
    "    return numpy_array\n",
    "\n",
    "# 其实这里是非线性的（）\n",
    "class LinearEncoder:\n",
    "    def __init__(self, epochs, learning_rate, inputSize, hidden):\n",
    "        self.epochs = epochs\n",
    "        self.learning_rate = learning_rate\n",
    "        self.inputSize = inputSize\n",
    "        self.model = cppyy.gbl.PY_LAE()\n",
    "        hidden = cppyy.gbl.std.vector[int](hidden)\n",
    "        self.model.selfInit(epochs, learning_rate, inputSize, hidden)\n",
    "        \n",
    "    def setLR_VOKE(self, LR_VOKE):\n",
    "        self.model.setLR_VOKE(LR_VOKE)\n",
    "        pass;\n",
    "    \n",
    "    def train(self, X, y):\n",
    "        if isinstance(X, np.ndarray):\n",
    "            data_list = X.tolist()\n",
    "        else:\n",
    "            data_list = X \n",
    "\n",
    "        if isinstance(y, np.ndarray):\n",
    "            labels_list = y.tolist()\n",
    "        else:\n",
    "            labels_list = y\n",
    "        \n",
    "        # declare std::vector in python\n",
    "        vector_vector_double = cppyy.gbl.std.vector[cppyy.gbl.std.vector['double']]\n",
    "        vector_double = cppyy.gbl.std.vector['double']\n",
    "\n",
    "        # transverse inputs\n",
    "        inputs = vector_vector_double()\n",
    "        for sample in data_list:\n",
    "            sample_vector = vector_double()\n",
    "            for feature in sample:\n",
    "                sample_vector.push_back(feature)\n",
    "            inputs.push_back(sample_vector)\n",
    "\n",
    "        # transverse labels\n",
    "        labels_vector = get2DCppArray(labels_list)\n",
    "        \n",
    "        self.model.train(inputs, labels_vector)\n",
    "        pass\n",
    "    \n",
    "    def predict(self, X):\n",
    "        X = get1DCppArray(X)\n",
    "        return get1DPyarray(self.model.predict(X))\n",
    "    \n",
    "    def encode(self, X):\n",
    "        X = get1DCppArray(X)\n",
    "        return get1DPyarray(self.model.encode(X))\n",
    "        \n",
    "    \n",
    "    def decode(self, X):\n",
    "        X = get1DCppArray(X)\n",
    "        return get1DPyarray(self.model.decode(X))\n",
    "    \n",
    "    def binaryDecode(self,X):\n",
    "        X = get1DCppArray(X)\n",
    "        return get1DPyarray(self.model.binaryDecode(X))"
   ]
  },
  {
   "cell_type": "markdown",
   "metadata": {},
   "source": [
    "Load files."
   ]
  },
  {
   "cell_type": "code",
   "execution_count": 2,
   "metadata": {
    "ExecuteTime": {
     "end_time": "2023-12-20T15:06:57.049078Z",
     "start_time": "2023-12-20T15:06:57.028843300Z"
    }
   },
   "outputs": [],
   "source": [
    "import numpy as np\n",
    "import matplotlib.pyplot as plt\n",
    "import cv2 as cv\n",
    "%matplotlib inline\n",
    "size = 64\n",
    "def getCVArray(path, title = 'avatar'):\n",
    "    img = cv.imread(path,0)\n",
    "    img = cv.resize(img, (size,size))\n",
    "    img = cv.cvtColor(img, cv.COLOR_BGR2RGB)\n",
    "    \n",
    "    plt.imshow(img)\n",
    "    plt.title(title)\n",
    "    plt.axis('off')  # Turn off axis numbers and ticks\n",
    "    plt.show()\n",
    "    \n",
    "    # change to n*3 array\n",
    "    img_arr = np.array(img)\n",
    "    img_arr = np.resize(img_arr, (size*size,1))\n",
    "    print(img_arr.shape)\n",
    "    return img_arr[0]"
   ]
  },
  {
   "cell_type": "markdown",
   "metadata": {},
   "source": []
  },
  {
   "cell_type": "code",
   "execution_count": 3,
   "metadata": {
    "ExecuteTime": {
     "end_time": "2023-12-20T15:07:20.779024900Z",
     "start_time": "2023-12-20T15:07:20.551660Z"
    }
   },
   "outputs": [
    {
     "data": {
      "image/png": "[encoded data removed]",
      "text/plain": [
       "<Figure size 432x288 with 1 Axes>"
      ]
     },
     "metadata": {
      "needs_background": "light"
     },
     "output_type": "display_data"
    },
    {
     "name": "stdout",
     "output_type": "stream",
     "text": [
      "(4096, 1)\n"
     ]
    },
    {
     "data": {
      "image/png": "[encoded data removed]",
      "text/plain": [
       "<Figure size 432x288 with 1 Axes>"
      ]
     },
     "metadata": {
      "needs_background": "light"
     },
     "output_type": "display_data"
    },
    {
     "name": "stdout",
     "output_type": "stream",
     "text": [
      "(4096, 1)\n"
     ]
    },
    {
     "data": {
      "image/png": "[encoded data removed]",
      "text/plain": [
       "<Figure size 432x288 with 1 Axes>"
      ]
     },
     "metadata": {
      "needs_background": "light"
     },
     "output_type": "display_data"
    },
    {
     "name": "stdout",
     "output_type": "stream",
     "text": [
      "(4096, 1)\n"
     ]
    },
    {
     "data": {
      "image/png": "[encoded data removed]",
      "text/plain": [
       "<Figure size 432x288 with 1 Axes>"
      ]
     },
     "metadata": {
      "needs_background": "light"
     },
     "output_type": "display_data"
    },
    {
     "name": "stdout",
     "output_type": "stream",
     "text": [
      "(4096, 1)\n"
     ]
    }
   ],
   "source": [
    "\n",
    "kazuha1 = getCVArray('statics/kazuha1.png','Kazuha1')\n",
    "kazuha2 = getCVArray('statics/kazuha2.jpg','Kazuha2')\n",
    "ganyu1 = getCVArray('statics/ganyu1.png','Ganyu1')\n",
    "ganyu2 = getCVArray('statics/ganyu2.png','Ganyu2')"
   ]
  },
  {
   "cell_type": "code",
   "execution_count": 4,
   "metadata": {},
   "outputs": [],
   "source": [
    "train_data = [kazuha1, kazuha2, ganyu1, ganyu2]\n",
    "train_data = np.array(train_data)\n",
    "encoder = LinearEncoder(1000, 0.01, size*size, [15])\n",
    "encoder.train(train_data, train_data)"
   ]
  },
  {
   "cell_type": "code",
   "execution_count": 5,
   "metadata": {
    "ExecuteTime": {
     "end_time": "2023-12-20T15:10:08.528135300Z",
     "start_time": "2023-12-20T15:10:08.509085Z"
    }
   },
   "outputs": [
    {
     "data": {
      "text/plain": [
       "<py.mKMeans.KMeansPlus at 0x1fa738bbfd0>"
      ]
     },
     "execution_count": 5,
     "metadata": {},
     "output_type": "execute_result"
    }
   ],
   "source": [
    "kazuha_encode1 = encoder.encode(kazuha1)\n",
    "kazuha_encode2 = encoder.encode(kazuha2)\n",
    "ganyu_encode1 = encoder.encode(ganyu1)\n",
    "ganyu_encode2 = encoder.encode(ganyu2)\n",
    "k_train_data = np.array([kazuha_encode1, kazuha_encode2, ganyu_encode1, ganyu_encode2])\n",
    "from py.mKMeans import KMeansPlus\n",
    "kmeans = KMeansPlus(k=2)\n",
    "kmeans.fit(k_train_data)\n",
    "print(kmeans.centroids)"
   ]
  },
  {
   "cell_type": "code",
   "execution_count": 7,
   "metadata": {},
   "outputs": [
    {
     "name": "stdout",
     "output_type": "stream",
     "text": [
      "(15,)\n"
     ]
    },
    {
     "ename": "TypeError",
     "evalue": "object of type 'NoneType' has no len()",
     "output_type": "error",
     "traceback": [
      "\u001b[1;31m---------------------------------------------------------------------------\u001b[0m",
      "\u001b[1;31mTypeError\u001b[0m                                 Traceback (most recent call last)",
      "\u001b[1;32m<ipython-input-7-4ac7d4e7f59f>\u001b[0m in \u001b[0;36m<module>\u001b[1;34m()\u001b[0m\n\u001b[0;32m      1\u001b[0m \u001b[0mtest_data\u001b[0m \u001b[1;33m=\u001b[0m \u001b[0mkazuha_encode1\u001b[0m\u001b[1;33m\u001b[0m\u001b[0m\n\u001b[0;32m      2\u001b[0m \u001b[0mprint\u001b[0m\u001b[1;33m(\u001b[0m\u001b[0mtest_data\u001b[0m\u001b[1;33m.\u001b[0m\u001b[0mshape\u001b[0m\u001b[1;33m)\u001b[0m\u001b[1;33m\u001b[0m\u001b[0m\n\u001b[1;32m----> 3\u001b[1;33m \u001b[0mtest_output\u001b[0m \u001b[1;33m=\u001b[0m \u001b[0mkmeans\u001b[0m\u001b[1;33m.\u001b[0m\u001b[0mpredict\u001b[0m\u001b[1;33m(\u001b[0m\u001b[0mtest_data\u001b[0m\u001b[1;33m)\u001b[0m\u001b[1;33m\u001b[0m\u001b[0m\n\u001b[0m\u001b[0;32m      4\u001b[0m \u001b[0mprint\u001b[0m\u001b[1;33m(\u001b[0m\u001b[0mtest_output\u001b[0m\u001b[1;33m)\u001b[0m\u001b[1;33m\u001b[0m\u001b[0m\n\u001b[0;32m      5\u001b[0m \u001b[1;33m\u001b[0m\u001b[0m\n",
      "\u001b[1;32mD:\\Sustech\\2023Autumn\\ArtificialIntelligent_and_MechineLearning\\project\\finall_project\\src\\py\\mKMeans.py\u001b[0m in \u001b[0;36mpredict\u001b[1;34m(self, X)\u001b[0m\n\u001b[0;32m     50\u001b[0m \u001b[1;33m\u001b[0m\u001b[0m\n\u001b[0;32m     51\u001b[0m     \u001b[1;32mdef\u001b[0m \u001b[0mpredict\u001b[0m\u001b[1;33m(\u001b[0m\u001b[0mself\u001b[0m\u001b[1;33m,\u001b[0m \u001b[0mX\u001b[0m\u001b[1;33m)\u001b[0m\u001b[1;33m:\u001b[0m\u001b[1;33m\u001b[0m\u001b[0m\n\u001b[1;32m---> 52\u001b[1;33m         \u001b[0mdistances\u001b[0m \u001b[1;33m=\u001b[0m \u001b[0mself\u001b[0m\u001b[1;33m.\u001b[0m\u001b[0mcalculate_distances\u001b[0m\u001b[1;33m(\u001b[0m\u001b[0mX\u001b[0m\u001b[1;33m,\u001b[0m \u001b[0mself\u001b[0m\u001b[1;33m.\u001b[0m\u001b[0mcentroids\u001b[0m\u001b[1;33m)\u001b[0m\u001b[1;33m\u001b[0m\u001b[0m\n\u001b[0m\u001b[0;32m     53\u001b[0m         \u001b[1;32mreturn\u001b[0m \u001b[0mnp\u001b[0m\u001b[1;33m.\u001b[0m\u001b[0margmin\u001b[0m\u001b[1;33m(\u001b[0m\u001b[0mdistances\u001b[0m\u001b[1;33m,\u001b[0m \u001b[0maxis\u001b[0m\u001b[1;33m=\u001b[0m\u001b[1;36m1\u001b[0m\u001b[1;33m)\u001b[0m\u001b[1;33m\u001b[0m\u001b[0m\n\u001b[0;32m     54\u001b[0m \u001b[1;33m\u001b[0m\u001b[0m\n",
      "\u001b[1;32mD:\\Sustech\\2023Autumn\\ArtificialIntelligent_and_MechineLearning\\project\\finall_project\\src\\py\\mKMeans.py\u001b[0m in \u001b[0;36mcalculate_distances\u001b[1;34m(self, X, centroids)\u001b[0m\n\u001b[0;32m      9\u001b[0m     \u001b[1;32mdef\u001b[0m \u001b[0mcalculate_distances\u001b[0m\u001b[1;33m(\u001b[0m\u001b[0mself\u001b[0m\u001b[1;33m,\u001b[0m \u001b[0mX\u001b[0m\u001b[1;33m,\u001b[0m \u001b[0mcentroids\u001b[0m\u001b[1;33m)\u001b[0m\u001b[1;33m:\u001b[0m\u001b[1;33m\u001b[0m\u001b[0m\n\u001b[0;32m     10\u001b[0m         \u001b[1;31m# 手动计算欧几里得距离矩阵\u001b[0m\u001b[1;33m\u001b[0m\u001b[1;33m\u001b[0m\u001b[0m\n\u001b[1;32m---> 11\u001b[1;33m         \u001b[0mdistances\u001b[0m \u001b[1;33m=\u001b[0m \u001b[0mnp\u001b[0m\u001b[1;33m.\u001b[0m\u001b[0mzeros\u001b[0m\u001b[1;33m(\u001b[0m\u001b[1;33m(\u001b[0m\u001b[0mX\u001b[0m\u001b[1;33m.\u001b[0m\u001b[0mshape\u001b[0m\u001b[1;33m[\u001b[0m\u001b[1;36m0\u001b[0m\u001b[1;33m]\u001b[0m\u001b[1;33m,\u001b[0m \u001b[0mlen\u001b[0m\u001b[1;33m(\u001b[0m\u001b[0mcentroids\u001b[0m\u001b[1;33m)\u001b[0m\u001b[1;33m)\u001b[0m\u001b[1;33m)\u001b[0m\u001b[1;33m\u001b[0m\u001b[0m\n\u001b[0m\u001b[0;32m     12\u001b[0m         \u001b[1;32mfor\u001b[0m \u001b[0mi\u001b[0m\u001b[1;33m,\u001b[0m \u001b[0mx\u001b[0m \u001b[1;32min\u001b[0m \u001b[0menumerate\u001b[0m\u001b[1;33m(\u001b[0m\u001b[0mX\u001b[0m\u001b[1;33m)\u001b[0m\u001b[1;33m:\u001b[0m\u001b[1;33m\u001b[0m\u001b[0m\n\u001b[0;32m     13\u001b[0m             \u001b[1;32mfor\u001b[0m \u001b[0mj\u001b[0m\u001b[1;33m,\u001b[0m \u001b[0mc\u001b[0m \u001b[1;32min\u001b[0m \u001b[0menumerate\u001b[0m\u001b[1;33m(\u001b[0m\u001b[0mcentroids\u001b[0m\u001b[1;33m)\u001b[0m\u001b[1;33m:\u001b[0m\u001b[1;33m\u001b[0m\u001b[0m\n",
      "\u001b[1;31mTypeError\u001b[0m: object of type 'NoneType' has no len()"
     ]
    }
   ],
   "source": [
    "test_data = kazuha_encode1\n",
    "print(test_data.shape)\n",
    "test_output = kmeans.predict(test_data)\n",
    "print(test_output)\n",
    "\n",
    "test_construct = encoder.decode(test_output)\n",
    "test_construct = np.resize(test_construct, (size,size))\n",
    "\n",
    "plt.imshow(test_construct)\n",
    "plt.title('predict construct')\n",
    "    # plt.axis('off')  # Turn off axis numbers and ticks\n",
    "plt.show()"
   ]
  },
  {
   "cell_type": "code",
   "execution_count": null,
   "metadata": {},
   "outputs": [],
   "source": []
  }
 ],
 "metadata": {
  "kernelspec": {
   "display_name": "Python 3",
   "language": "python",
   "name": "python3"
  },
  "language_info": {
   "codemirror_mode": {
    "name": "ipython",
    "version": 3
   },
   "file_extension": ".py",
   "mimetype": "text/x-python",
   "name": "python",
   "nbconvert_exporter": "python",
   "pygments_lexer": "ipython3",
   "version": "3.7.0"
  }
 },
 "nbformat": 4,
 "nbformat_minor": 5
}
