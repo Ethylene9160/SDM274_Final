{
 "cells": [
  {
   "cell_type": "code",
   "execution_count": 3,
   "metadata": {
    "ExecuteTime": {
     "end_time": "2023-12-19T05:48:16.218075700Z",
     "start_time": "2023-12-19T05:48:16.207985200Z"
    }
   },
   "outputs": [],
   "source": [
    "import numpy as np\n",
    "from py.mPCA import PCA  \n",
    "        "
   ]
  },
  {
   "cell_type": "code",
   "execution_count": 4,
   "metadata": {
    "ExecuteTime": {
     "end_time": "2023-12-19T05:48:16.653358300Z",
     "start_time": "2023-12-19T05:48:16.597198100Z"
    }
   },
   "outputs": [
    {
     "name": "stdout",
     "output_type": "stream",
     "text": [
      "Transformed Data:\n",
      " [[ 0.7957873   0.14720486]\n",
      " [-2.43161431  0.14817129]]\n"
     ]
    }
   ],
   "source": [
    "if __name__ == \"__main__\":\n",
    "    # Training data\n",
    "    X_train = np.array([\n",
    "        [2.5, 2.4, 3.2],\n",
    "        [0.5, 0.7, 1.2],\n",
    "        [2.2, 2.9, 3.1],\n",
    "        [1.9, 2.2, 2.9],\n",
    "        [3.1, 3.0, 3.3]\n",
    "    ])\n",
    "#     X_train = np.array([\n",
    "#         [1,2],\n",
    "#         [-1,-2]\n",
    "#     ])\n",
    "\n",
    "    # Initialize and fit PCA\n",
    "    pca = PCA()\n",
    "    pca.train(X_train)\n",
    "\n",
    "    # New data to transform\n",
    "    X_new = np.array([\n",
    "        [2.6, 2.5, 3.3],\n",
    "        [0.7, 0.8, 1.3],\n",
    "    ])\n",
    "#     X_new = np.array([\n",
    "#         [1,2],\n",
    "#         [-1,-2]\n",
    "#     ])\n",
    "\n",
    "    # Transform new data\n",
    "    X_transformed = pca.transform(X_new,2)\n",
    "    print(\"Transformed Data:\\n\", X_transformed)"
   ]
  },
  {
   "cell_type": "code",
   "execution_count": null,
   "outputs": [],
   "source": [],
   "metadata": {
    "collapsed": false
   }
  }
 ],
 "metadata": {
  "kernelspec": {
   "display_name": "Python 3",
   "language": "python",
   "name": "python3"
  },
  "language_info": {
   "codemirror_mode": {
    "name": "ipython",
    "version": 3
   },
   "file_extension": ".py",
   "mimetype": "text/x-python",
   "name": "python",
   "nbconvert_exporter": "python",
   "pygments_lexer": "ipython3",
   "version": "3.7.0"
  }
 },
 "nbformat": 4,
 "nbformat_minor": 2
}
