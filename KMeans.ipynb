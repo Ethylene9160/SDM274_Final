{
 "cells": [
  {
   "cell_type": "code",
   "execution_count": 3,
   "outputs": [],
   "source": [
    "import numpy as np\n",
    "import matplotlib.pyplot as plt\n",
    "%matplotlib inline\n",
    "from py.mKMeans import KMeans, KMeansPlus, SoftKMeans, EnhancedKMeans, silhouette_coefficient\n",
    "import py.mKMeans"
   ],
   "metadata": {
    "collapsed": false,
    "ExecuteTime": {
     "end_time": "2023-12-21T09:33:52.400072800Z",
     "start_time": "2023-12-21T09:33:52.382023500Z"
    }
   }
  },
  {
   "cell_type": "code",
   "execution_count": 7,
   "metadata": {
    "ExecuteTime": {
     "end_time": "2023-12-21T09:36:44.621038400Z",
     "start_time": "2023-12-21T09:36:44.584336400Z"
    }
   },
   "outputs": [
    {
     "name": "stdout",
     "output_type": "stream",
     "text": [
      "[[0, 0], [0.1, 0.2], [0.2, 0.1], [0.2, 0.2], [2, 0], [2.1, 0.2], [2.2, 0.1], [2.2, 0.2], [0, 2.1], [0.1, 2.2], [0.2, 2.1], [0.2, 2.2], [10, 2], [10.1, 2.2], [10.2, 2.1], [10.2, 2.2]]\n",
      "0.6382900579539245\n"
     ]
    }
   ],
   "source": [
    "seeds_data = [\n",
    "    [0,0],\n",
    "    [0.1,0.2],\n",
    "    [0.2,0.1],\n",
    "    [0.2,0.2],\n",
    "    \n",
    "    [2,0],\n",
    "    [2.1,0.2],\n",
    "    [2.2,0.1],\n",
    "    [2.2,0.2],\n",
    "    \n",
    "    [0,2.1],\n",
    "    [0.1,2.2],\n",
    "    [0.2,2.1],\n",
    "    [0.2,2.2],\n",
    "    \n",
    "    [10,2],\n",
    "    [10.1,2.2],\n",
    "    [10.2,2.1],\n",
    "    [10.2,2.2],\n",
    "             ]\n",
    "print(seeds_data)\n",
    "# 创建KMeans和SoftKMeans实例\n",
    "seeds_data = np.array(seeds_data)\n",
    "kmeans = KMeans(k=4)\n",
    "soft_kmeans = SoftKMeans(k=4,beta=0.5)  # beta参数控制soft assignment的程度\n",
    "# kmeans = soft_kmeans\n",
    "\n",
    "# 拟合小麦数据集\n",
    "# kmeans.fit(seeds_data.iloc[:, :-1].values)\n",
    "# soft_kmeans.fit(seeds_data.iloc[:, :-1].values)\n",
    "\n",
    "kmeans.fit(seeds_data)\n",
    "soft_kmeans.fit(seeds_data)\n",
    "\n",
    "# 得到KMeans和SoftKMeans的聚类标签\n",
    "kmeans_labels = kmeans.labels_\n",
    "# soft_kmeans_labels = soft_kmeans.labels_\n",
    "\n",
    "# 显示第一个算法的质心和标签，以确认实现正确\n",
    "(kmeans.centroids, kmeans_labels)\n",
    "print(silhouette_coefficient(seeds_data, kmeans.predict(seeds_data)))"
   ]
  },
  {
   "cell_type": "code",
   "execution_count": 8,
   "metadata": {
    "ExecuteTime": {
     "end_time": "2023-12-21T09:36:46.368565100Z",
     "start_time": "2023-12-21T09:36:46.261330400Z"
    }
   },
   "outputs": [
    {
     "name": "stderr",
     "output_type": "stream",
     "text": [
      "D:\\windows\\temp\\ipykernel_21576\\501278241.py:28: UserWarning: No data for colormapping provided via 'c'. Parameters 'cmap' will be ignored\n",
      "  plt.scatter(data_2d[:, 0], data_2d[:, 1], c, cmap='viridis', marker='o')\n"
     ]
    },
    {
     "data": {
      "text/plain": "<Figure size 1800x500 with 1 Axes>",
      "image/png": "[encoded data removed]"
     },
     "metadata": {},
     "output_type": "display_data"
    }
   ],
   "source": [
    "import matplotlib.pyplot as plt\n",
    "# from sklearn.decomposition import PCA\n",
    "%matplotlib inline\n",
    "\n",
    "# 使用PCA将数据降维到2D，便于可视化\n",
    "# pca = PCA(n_components=2)\n",
    "# data_2d = pca.fit_transform(seeds_data.iloc[:, :-1].values)\n",
    "# data_2d = pca.fit_transform(seeds_data)\n",
    "data_2d = seeds_data\n",
    "# 绘制原始数据的分布\n",
    "plt.figure(figsize=(18, 5))\n",
    "\n",
    "# 原始标签图\n",
    "# plt.subplot(1, 3, 1)\n",
    "# plt.scatter(data_2d[:, 0], data_2d[:, 1], c=seeds_data['class'].values, cmap='viridis', marker='o')\n",
    "# plt.title('Original Data Labels')\n",
    "\n",
    "# KMeans标签图\n",
    "# plt.subplot(1, 3, 2)\n",
    "# plt.scatter(data_2d[:, 0], data_2d[:, 1], c=kmeans_labels, cmap='viridis', marker='o')\n",
    "# plt.scatter(pca.transform(kmeans.centroids)[:, 0], pca.transform(kmeans.centroids)[:, 1], c='red', marker='x', s=200, label='Centroids')\n",
    "# plt.title('KMeans Clustering')\n",
    "# plt.legend()\n",
    "c=[\n",
    "    1,1,1,1,2,2,2,2,3,3,3,3,4,4,4,4\n",
    "]\n",
    "plt.subplot(1, 3, 2)\n",
    "plt.scatter(data_2d[:, 0], data_2d[:, 1], c, cmap='viridis', marker='o')\n",
    "# plt.scatter(data_2d[:, 0], data_2d[:, 1], c=kmeans_labels, cmap='viridis', marker='o')\n",
    "plt.scatter(kmeans.centroids[:,0], kmeans.centroids[:,1], c='red', marker='x', s=200, label='Centroids')\n",
    "plt.title('Soft KMeans Clustering')\n",
    "plt.legend()\n",
    "\n",
    "\n",
    "# SoftKMeans标签图\n",
    "# plt.subplot(1, 3, 3)\n",
    "# plt.scatter(data_2d[:, 0], data_2d[:, 1], c=soft_kmeans_labels, cmap='viridis', marker='o')\n",
    "# plt.scatter(pca.transform(soft_kmeans.centroids)[:, 0], pca.transform(soft_kmeans.centroids)[:, 1], c='red', marker='x', s=200, label='Centroids')\n",
    "# plt.title('Soft KMeans Clustering')\n",
    "# plt.legend()\n",
    "\n",
    "plt.show()"
   ]
  },
  {
   "cell_type": "code",
   "execution_count": null,
   "metadata": {
    "ExecuteTime": {
     "start_time": "2023-12-21T09:33:29.783889100Z"
    }
   },
   "outputs": [],
   "source": []
  },
  {
   "cell_type": "code",
   "execution_count": null,
   "metadata": {
    "ExecuteTime": {
     "end_time": "2023-12-21T09:33:29.794981300Z",
     "start_time": "2023-12-21T09:33:29.784894500Z"
    }
   },
   "outputs": [],
   "source": []
  }
 ],
 "metadata": {
  "kernelspec": {
   "display_name": "Python 3",
   "language": "python",
   "name": "python3"
  },
  "language_info": {
   "codemirror_mode": {
    "name": "ipython",
    "version": 3
   },
   "file_extension": ".py",
   "mimetype": "text/x-python",
   "name": "python",
   "nbconvert_exporter": "python",
   "pygments_lexer": "ipython3",
   "version": "3.7.0"
  }
 },
 "nbformat": 4,
 "nbformat_minor": 2
}
